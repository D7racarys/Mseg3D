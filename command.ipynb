{
 "cells": [
  {
   "cell_type": "code",
   "execution_count": null,
   "metadata": {
    "vscode": {
     "languageId": "plaintext"
    }
   },
   "outputs": [],
   "source": [
    "CUDA_VISIBLE_DEVICES=0,1,2,3,4,5 python -m torch.distributed.launch --nproc_per_node=6 ./tools/train.py configs/semanticnusc/MSeg3D/semnusc_avgvfe_unetscn3d_hrnetw18_lr1en2_e12.py --tcp_port 17045"
   ]
  },
  {
   "cell_type": "code",
   "execution_count": null,
   "metadata": {
    "vscode": {
     "languageId": "plaintext"
    }
   },
   "outputs": [],
   "source": [
    "python -m torch.distributed.launch --nproc_per_node=4 ./tools/dist_test.py /data/luochao/Paper/lidarseg3d/configs/semanticnusc/MSeg3D/semnusc_avgvfe_unetscn3d_hrnetw18_lr1en2_e12.py --work_dir /data/luochao/Paper/lidarseg3d/work_dirs/semnusc_avgvfe_unetscn3d_hrnetw18_lr1en2_e12 --checkpoint work_dirs/semnusc_avgvfe_unetscn3d_hrnetw18_lr1en2_e12/latest.pth"
   ]
  },
  {
   "cell_type": "code",
   "execution_count": null,
   "metadata": {
    "vscode": {
     "languageId": "plaintext"
    }
   },
   "outputs": [],
   "source": [
    "CUDA_VISIBLE_DEVICES=0,1,2,3,4,5 python -m torch.distributed.launch --nproc_per_node=6 ./tools/train.py configs/semanticnusc/MSeg3D/semnusc_avgvfe_unetscn3d_lidarbaseline_lr1en2_e12.py --tcp_port 17045"
   ]
  },
  {
   "cell_type": "code",
   "execution_count": null,
   "metadata": {
    "vscode": {
     "languageId": "plaintext"
    }
   },
   "outputs": [],
   "source": [
    "python -m torch.distributed.launch --nproc_per_node=8 ./tools/dist_test.py /data/luochao/Paper/lidarseg3d/configs/semanticnusc/MSeg3D/semnusc_avgvfe_unetscn3d_lidarbaseline_lr1en2_e12.py --work_dir /data/luochao/Paper/lidarseg3d/work_dirs/semnusc_avgvfe_unetscn3d_lidarbaseline_lr1en2_e12 --checkpoint work_dirs/semnusc_avgvfe_unetscn3d_lidarbaseline_lr1en2_e12/latest.pth"
   ]
  }
 ],
 "metadata": {
  "language_info": {
   "name": "python"
  }
 },
 "nbformat": 4,
 "nbformat_minor": 2
}
